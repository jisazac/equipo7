{
 "cells": [
  {
   "cell_type": "markdown",
   "metadata": {},
   "source": [
    "Este jupyter tiene el compromiso de appendear los dataframes yellow_trips_new.csv y green_trips_new_2.csv, los cuales contienen las siguientes columnas en comun:\n",
    "\n",
    " + 'pickup_datetime' \n",
    " + 'dropoff_datetime' \n",
    " + 'pickup_longitude'\n",
    " + 'pickup_latitude' \n",
    " + dropoff_longitude' \n",
    " + 'dropoff_latitude'\n",
    " + 'passenger_count' \n",
    " + 'trip_distance'\n",
    " + 'total_amount'"
   ]
  },
  {
   "cell_type": "code",
   "execution_count": 2,
   "metadata": {
    "collapsed": false
   },
   "outputs": [],
   "source": [
    "import pandas as pd\n",
    "\n",
    "# En esta celda se configuran los paths a ambos archivos\n",
    "path=\"C:\\\\Users\\\\jisaza\\\\Desktop\\\\DS4A_workspace\\\\datathon\\\\data\"\n",
    "yellow=\"\\yellow_trips_new.csv\"\n",
    "green=\"\\green_trips_new_2.csv\"\n",
    "\n",
    "yellow_path=path+yellow\n",
    "green_path=path+green"
   ]
  },
  {
   "cell_type": "code",
   "execution_count": 4,
   "metadata": {
    "collapsed": false
   },
   "outputs": [],
   "source": [
    "# Se lee con pandas el archivo corresponeidnte a los viajes amarillos, se parsean las columnas\n",
    "# de 'pickup_datetime' y 'dropoff_datetime' a formato datetime\n",
    "df_yellow=pd.read_csv(yellow_path,parse_dates=[0,1])"
   ]
  },
  {
   "cell_type": "code",
   "execution_count": 5,
   "metadata": {
    "collapsed": false
   },
   "outputs": [],
   "source": [
    "# Se lee con pandas el archivo correspondiete a los viajes verdes, se parsean las columnas\n",
    "# de 'pickup_datetime' y 'dropoff_datetime' a formato datetime\n",
    "df_green=pd.read_csv(green_path,parse_dates=[0,1])"
   ]
  },
  {
   "cell_type": "code",
   "execution_count": 6,
   "metadata": {
    "collapsed": true
   },
   "outputs": [],
   "source": [
    "# Para ambos dataframes se crea la columna type que indica a que grupo pertenece el viaje\n",
    "df_yellow[\"type\"]=\"yellow\"\n",
    "df_green[\"type\"]=\"green\"\n"
   ]
  },
  {
   "cell_type": "code",
   "execution_count": 11,
   "metadata": {
    "collapsed": false
   },
   "outputs": [
    {
     "data": {
      "text/plain": [
       "(11563107, 10)"
      ]
     },
     "execution_count": 11,
     "metadata": {},
     "output_type": "execute_result"
    }
   ],
   "source": [
    "# Se crea un dataframe llamado df_trips, el cual contiene la inforamcion de ambos tipos de viajes\n",
    "df_trips=pd.concat([df_yellow,df_green])\n",
    "df_trips.shape"
   ]
  },
  {
   "cell_type": "code",
   "execution_count": 18,
   "metadata": {
    "collapsed": false
   },
   "outputs": [
    {
     "data": {
      "text/html": [
       "<div>\n",
       "<table border=\"1\" class=\"dataframe\">\n",
       "  <thead>\n",
       "    <tr style=\"text-align: right;\">\n",
       "      <th></th>\n",
       "      <th>passenger_count</th>\n",
       "    </tr>\n",
       "    <tr>\n",
       "      <th>pickup_datetime</th>\n",
       "      <th></th>\n",
       "    </tr>\n",
       "  </thead>\n",
       "  <tbody>\n",
       "    <tr>\n",
       "      <th>2014-04-30</th>\n",
       "      <td>1.625205</td>\n",
       "    </tr>\n",
       "    <tr>\n",
       "      <th>2014-05-31</th>\n",
       "      <td>1.629578</td>\n",
       "    </tr>\n",
       "    <tr>\n",
       "      <th>2014-06-30</th>\n",
       "      <td>1.628299</td>\n",
       "    </tr>\n",
       "    <tr>\n",
       "      <th>2014-07-31</th>\n",
       "      <td>1.627078</td>\n",
       "    </tr>\n",
       "    <tr>\n",
       "      <th>2014-08-31</th>\n",
       "      <td>1.627599</td>\n",
       "    </tr>\n",
       "    <tr>\n",
       "      <th>2014-09-30</th>\n",
       "      <td>1.607272</td>\n",
       "    </tr>\n",
       "    <tr>\n",
       "      <th>2014-10-31</th>\n",
       "      <td>NaN</td>\n",
       "    </tr>\n",
       "    <tr>\n",
       "      <th>2014-11-30</th>\n",
       "      <td>NaN</td>\n",
       "    </tr>\n",
       "    <tr>\n",
       "      <th>2014-12-31</th>\n",
       "      <td>NaN</td>\n",
       "    </tr>\n",
       "    <tr>\n",
       "      <th>2015-01-31</th>\n",
       "      <td>1.587731</td>\n",
       "    </tr>\n",
       "    <tr>\n",
       "      <th>2015-02-28</th>\n",
       "      <td>1.570997</td>\n",
       "    </tr>\n",
       "    <tr>\n",
       "      <th>2015-03-31</th>\n",
       "      <td>1.569846</td>\n",
       "    </tr>\n",
       "    <tr>\n",
       "      <th>2015-04-30</th>\n",
       "      <td>1.575458</td>\n",
       "    </tr>\n",
       "    <tr>\n",
       "      <th>2015-05-31</th>\n",
       "      <td>1.580260</td>\n",
       "    </tr>\n",
       "    <tr>\n",
       "      <th>2015-06-30</th>\n",
       "      <td>1.576175</td>\n",
       "    </tr>\n",
       "  </tbody>\n",
       "</table>\n",
       "</div>"
      ],
      "text/plain": [
       "                 passenger_count\n",
       "pickup_datetime                 \n",
       "2014-04-30              1.625205\n",
       "2014-05-31              1.629578\n",
       "2014-06-30              1.628299\n",
       "2014-07-31              1.627078\n",
       "2014-08-31              1.627599\n",
       "2014-09-30              1.607272\n",
       "2014-10-31                   NaN\n",
       "2014-11-30                   NaN\n",
       "2014-12-31                   NaN\n",
       "2015-01-31              1.587731\n",
       "2015-02-28              1.570997\n",
       "2015-03-31              1.569846\n",
       "2015-04-30              1.575458\n",
       "2015-05-31              1.580260\n",
       "2015-06-30              1.576175"
      ]
     },
     "execution_count": 18,
     "metadata": {},
     "output_type": "execute_result"
    }
   ],
   "source": [
    "#df_trips[[\"pickup_datetime\",\"passenger_count\"]].set_index('pickup_datetime').groupby(pd.Grouper(freq='M')).mean()"
   ]
  },
  {
   "cell_type": "code",
   "execution_count": 22,
   "metadata": {
    "collapsed": false
   },
   "outputs": [],
   "source": [
    "# Este bloque exporta a csv el dataframe, usando como separador , \n",
    "path=\"C:\\\\Users\\\\jisaza\\\\Desktop\\\\DS4A_workspace\\\\datathon\\\\data\"\n",
    "file_name=\"\\yellow_green_trips.csv\"\n",
    "data=path+file_name\n",
    "df_trips.to_csv(data,index=False)"
   ]
  },
  {
   "cell_type": "code",
   "execution_count": null,
   "metadata": {
    "collapsed": true
   },
   "outputs": [],
   "source": []
  }
 ],
 "metadata": {
  "kernelspec": {
   "display_name": "Python 3",
   "language": "python",
   "name": "python3"
  },
  "language_info": {
   "codemirror_mode": {
    "name": "ipython",
    "version": 3
   },
   "file_extension": ".py",
   "mimetype": "text/x-python",
   "name": "python",
   "nbconvert_exporter": "python",
   "pygments_lexer": "ipython3",
   "version": "3.6.0"
  }
 },
 "nbformat": 4,
 "nbformat_minor": 2
}
