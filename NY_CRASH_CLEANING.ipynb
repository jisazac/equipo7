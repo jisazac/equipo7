{
 "cells": [
  {
   "cell_type": "markdown",
   "metadata": {},
   "source": [
    "Este notebook tiene el compromiso de limpiar la base de datos de accidentes, filtrar por el periodo de tiempo 2014-2015 utilizando la informacion contenida en https://data.cityofnewyork.us/Public-Safety/NYPD-Motor-Vehicle-Collisions-Crashes/h9gi-nx95\n",
    "\n",
    "**OJO** Este caso de uso importa solo 10000 eventos desde el archivo original. En AWS debe deshabilitarse el argumento \"use_cols\" de la funcion \"pd.read_csv()\""
   ]
  },
  {
   "cell_type": "code",
   "execution_count": 1,
   "metadata": {
    "collapsed": true
   },
   "outputs": [],
   "source": [
    "import pandas as pd\n",
    "path=\"C:\\\\Users\\\\jisaza\\\\Desktop\\\\DS4A_workspace\\\\datathon\\\\data\\\\ny_crashes.csv\"\n",
    "\n",
    "#Enuncio en una lista las columnas con informacion relevante de los accidentes, su ubicacion\n",
    "#y el tiempo del suceso\n",
    "usecols=['DATE', 'TIME', 'BOROUGH', 'ZIP CODE', 'LATITUDE', 'LONGITUDE',\n",
    "       'NUMBER OF PERSONS INJURED', 'NUMBER OF PERSONS KILLED',\n",
    "       'NUMBER OF PEDESTRIANS INJURED', 'NUMBER OF PEDESTRIANS KILLED',\n",
    "       'NUMBER OF CYCLIST INJURED', 'NUMBER OF CYCLIST KILLED',\n",
    "       'NUMBER OF MOTORIST INJURED', 'NUMBER OF MOTORIST KILLED',\n",
    "       'CONTRIBUTING FACTOR VEHICLE 1', 'CONTRIBUTING FACTOR VEHICLE 2',\n",
    "       'CONTRIBUTING FACTOR VEHICLE 3', 'CONTRIBUTING FACTOR VEHICLE 4',\n",
    "       'CONTRIBUTING FACTOR VEHICLE 5', 'COLLISION_ID', 'VEHICLE TYPE CODE 1',\n",
    "       'VEHICLE TYPE CODE 2', 'VEHICLE TYPE CODE 3', 'VEHICLE TYPE CODE 4',\n",
    "       'VEHICLE TYPE CODE 5']"
   ]
  },
  {
   "cell_type": "code",
   "execution_count": 2,
   "metadata": {
    "collapsed": false
   },
   "outputs": [],
   "source": [
    "#Se carga el dataframe con solo 10000 observaciones\n",
    "df=pd.read_csv(path,nrows=10000,usecols=usecols)"
   ]
  },
  {
   "cell_type": "code",
   "execution_count": 3,
   "metadata": {
    "collapsed": false
   },
   "outputs": [],
   "source": [
    "#Convierto a formato fecha yyyy-mm-dd la columna \"DATE\"\n",
    "df[\"DATE\"]=pd.to_datetime(df[\"DATE\"])\n"
   ]
  },
  {
   "cell_type": "code",
   "execution_count": 4,
   "metadata": {
    "collapsed": false
   },
   "outputs": [],
   "source": [
    "# Se crea la variable \"crash timestamp\", la cual indica la fecha y hora del accidente\n",
    "df[\"crash timestamp\"]=df[\"DATE\"].astype(str)+\" \"+df[\"TIME\"].astype(str)\n",
    "df[\"crash timestamp\"]=pd.to_datetime(df[\"crash timestamp\"])\n",
    "\n",
    "# Se dropean las observaciones que no tienen coordenadas, esto se hace ya que no hay una manera precisa de inputar\n",
    "# estos datos faltantes\n",
    "df=df[pd.notnull(df[\"LATITUDE\"])]\n",
    "\n",
    "#En este punto solo variables descriptivas de formato string conservan missing values, se decide llenar e\n",
    "# estos vacios con el valor \"Unknown\"\n",
    "df.fillna(\"Unknown\",inplace=True)"
   ]
  },
  {
   "cell_type": "code",
   "execution_count": 5,
   "metadata": {
    "collapsed": true
   },
   "outputs": [],
   "source": [
    "#Se exporta a csv el datframe limpio\n",
    "df.to_csv(\"ny_crash_clean.csv\")"
   ]
  },
  {
   "cell_type": "code",
   "execution_count": null,
   "metadata": {
    "collapsed": true
   },
   "outputs": [],
   "source": []
  }
 ],
 "metadata": {
  "kernelspec": {
   "display_name": "Python 3",
   "language": "python",
   "name": "python3"
  },
  "language_info": {
   "codemirror_mode": {
    "name": "ipython",
    "version": 3
   },
   "file_extension": ".py",
   "mimetype": "text/x-python",
   "name": "python",
   "nbconvert_exporter": "python",
   "pygments_lexer": "ipython3",
   "version": "3.6.0"
  }
 },
 "nbformat": 4,
 "nbformat_minor": 2
}
