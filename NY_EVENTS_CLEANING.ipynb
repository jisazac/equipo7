{
 "cells": [
  {
   "cell_type": "markdown",
   "metadata": {},
   "source": [
    "Este notebook tiene el compromiso de categorizar los eventos, data cleaning y  determinar categorías del archivo ny_events.csv el cual contiene informacion historica de eventos (deportivos, cultitales, etc..) para la ciudad de nueva york. \n",
    "Adema se diseña un script (Programa) que lee la descripción del evento y lo categoriza."
   ]
  },
  {
   "cell_type": "code",
   "execution_count": 1,
   "metadata": {
    "collapsed": true
   },
   "outputs": [],
   "source": [
    "#Se importa pandas como libreria de procesamiento de datos\n",
    "import pandas as pd"
   ]
  },
  {
   "cell_type": "code",
   "execution_count": 2,
   "metadata": {
    "collapsed": false
   },
   "outputs": [],
   "source": [
    "# Leemos el archivo ny_events.csv tal como viene de la pagina \n",
    "# https://data.ny.gov/Transportation/511-NY-Sporting-Concert-and-Special-Events-Beginni/3ha4-4nfg\n",
    "df=pd.read_csv(\"C:\\\\Users\\\\jisaza\\\\Desktop\\\\DS4A_workspace\\\\datathon\\\\data\\\\ny_events.csv\")\n",
    "\n",
    "# Convertimos lowercase (minuscula) los string presentes en las columnas \"Event Type\" y \"Event Description\" \n",
    "df[\"Event Type\"]=df[\"Event Type\"].str.lower()\n",
    "df[\"Event Description\"]=df[\"Event Description\"].str.lower()\n"
   ]
  },
  {
   "cell_type": "code",
   "execution_count": 3,
   "metadata": {
    "collapsed": false
   },
   "outputs": [
    {
     "name": "stderr",
     "output_type": "stream",
     "text": [
      "C:\\ProgramData\\Anaconda3\\lib\\site-packages\\ipykernel\\__main__.py:5: SettingWithCopyWarning: \n",
      "A value is trying to be set on a copy of a slice from a DataFrame\n",
      "\n",
      "See the caveats in the documentation: http://pandas.pydata.org/pandas-docs/stable/indexing.html#indexing-view-versus-copy\n"
     ]
    }
   ],
   "source": [
    "# Se aplica un split en la fecha del evento para extraer el string \"PM\" para poder\n",
    "# convertir las horas de un formato de 12 horas a uno de 24 horas (militar)\n",
    "\n",
    "# creo un dataframe new con tres columnas que me permiten crear una cuarta columna\n",
    "# llamada \"event timestamp\" en foramto de hora militar usando un condicional de PM y \n",
    "# introduciendo un timedelta de 12 horas\n",
    "new = df[\"Create Time\"].str.split(\" \", n = 2, expand = True)\n",
    "new.columns=[\"event date\",\"start time\",\"afternoon\"]\n",
    "new[\"event timestamp\"]=new[\"event date\"].astype(str)+\" \"+new[\"start time\"].astype(str)\n",
    "new[\"event timestamp\"]=pd.to_datetime(new[\"event timestamp\"])\n",
    "new[\"event timestamp\"][new[\"afternoon\"]==\"PM\"]=new[\"event timestamp\"][new[\"afternoon\"]==\"PM\"]+pd.Timedelta(hours=12)\n",
    "\n",
    "\n",
    "\n"
   ]
  },
  {
   "cell_type": "code",
   "execution_count": 4,
   "metadata": {
    "collapsed": false
   },
   "outputs": [],
   "source": [
    "# Introduzco la columna event date a partir del dataframe \"new\" \n",
    "# en nuestro dataframe original\n",
    "df[\"event date\"]=new[\"event date\"]\n",
    "df[\"event start timestamp\"]=new[\"event timestamp\"]\n",
    "# Filtro por eventos entre 2014 y 2015, esta condicion viene determinada por\n",
    "# la disponibilidad de informacion de green trips y yellow trips\n",
    "start_date = '2013-12-31'\n",
    "end_date = '2016-01-01'\n",
    "#Aplico el filtro de fechas\n",
    "mask = (df['event start timestamp'] > start_date) & (df['event start timestamp'] < end_date)\n",
    "df=df[mask]\n"
   ]
  },
  {
   "cell_type": "code",
   "execution_count": 6,
   "metadata": {
    "collapsed": false
   },
   "outputs": [
    {
     "name": "stderr",
     "output_type": "stream",
     "text": [
      "C:\\ProgramData\\Anaconda3\\lib\\site-packages\\ipykernel\\__main__.py:2: SettingWithCopyWarning: \n",
      "A value is trying to be set on a copy of a slice from a DataFrame\n",
      "\n",
      "See the caveats in the documentation: http://pandas.pydata.org/pandas-docs/stable/indexing.html#indexing-view-versus-copy\n",
      "  from ipykernel import kernelapp as app\n",
      "C:\\ProgramData\\Anaconda3\\lib\\site-packages\\ipykernel\\__main__.py:3: SettingWithCopyWarning: \n",
      "A value is trying to be set on a copy of a slice from a DataFrame\n",
      "\n",
      "See the caveats in the documentation: http://pandas.pydata.org/pandas-docs/stable/indexing.html#indexing-view-versus-copy\n",
      "  app.launch_new_instance()\n",
      "C:\\ProgramData\\Anaconda3\\lib\\site-packages\\ipykernel\\__main__.py:4: SettingWithCopyWarning: \n",
      "A value is trying to be set on a copy of a slice from a DataFrame\n",
      "\n",
      "See the caveats in the documentation: http://pandas.pydata.org/pandas-docs/stable/indexing.html#indexing-view-versus-copy\n",
      "C:\\ProgramData\\Anaconda3\\lib\\site-packages\\ipykernel\\__main__.py:5: SettingWithCopyWarning: \n",
      "A value is trying to be set on a copy of a slice from a DataFrame\n",
      "\n",
      "See the caveats in the documentation: http://pandas.pydata.org/pandas-docs/stable/indexing.html#indexing-view-versus-copy\n",
      "C:\\ProgramData\\Anaconda3\\lib\\site-packages\\ipykernel\\__main__.py:6: SettingWithCopyWarning: \n",
      "A value is trying to be set on a copy of a slice from a DataFrame\n",
      "\n",
      "See the caveats in the documentation: http://pandas.pydata.org/pandas-docs/stable/indexing.html#indexing-view-versus-copy\n",
      "C:\\ProgramData\\Anaconda3\\lib\\site-packages\\ipykernel\\__main__.py:7: SettingWithCopyWarning: \n",
      "A value is trying to be set on a copy of a slice from a DataFrame\n",
      "\n",
      "See the caveats in the documentation: http://pandas.pydata.org/pandas-docs/stable/indexing.html#indexing-view-versus-copy\n",
      "C:\\ProgramData\\Anaconda3\\lib\\site-packages\\ipykernel\\__main__.py:8: SettingWithCopyWarning: \n",
      "A value is trying to be set on a copy of a slice from a DataFrame\n",
      "\n",
      "See the caveats in the documentation: http://pandas.pydata.org/pandas-docs/stable/indexing.html#indexing-view-versus-copy\n",
      "C:\\ProgramData\\Anaconda3\\lib\\site-packages\\ipykernel\\__main__.py:9: SettingWithCopyWarning: \n",
      "A value is trying to be set on a copy of a slice from a DataFrame\n",
      "\n",
      "See the caveats in the documentation: http://pandas.pydata.org/pandas-docs/stable/indexing.html#indexing-view-versus-copy\n",
      "C:\\ProgramData\\Anaconda3\\lib\\site-packages\\ipykernel\\__main__.py:10: SettingWithCopyWarning: \n",
      "A value is trying to be set on a copy of a slice from a DataFrame\n",
      "\n",
      "See the caveats in the documentation: http://pandas.pydata.org/pandas-docs/stable/indexing.html#indexing-view-versus-copy\n",
      "C:\\ProgramData\\Anaconda3\\lib\\site-packages\\ipykernel\\__main__.py:11: SettingWithCopyWarning: \n",
      "A value is trying to be set on a copy of a slice from a DataFrame\n",
      "\n",
      "See the caveats in the documentation: http://pandas.pydata.org/pandas-docs/stable/indexing.html#indexing-view-versus-copy\n",
      "C:\\ProgramData\\Anaconda3\\lib\\site-packages\\ipykernel\\__main__.py:12: SettingWithCopyWarning: \n",
      "A value is trying to be set on a copy of a slice from a DataFrame\n",
      "\n",
      "See the caveats in the documentation: http://pandas.pydata.org/pandas-docs/stable/indexing.html#indexing-view-versus-copy\n"
     ]
    }
   ],
   "source": [
    "# Usando la columna \"Event Description\" extraigo eventos de la categoria especial event a las categorias \n",
    "# mas recurrentes {concert,hockey game,basketball game,football game,soccer game,show,baseball game\n",
    "#                  wrestling }\n",
    "\n",
    "df[\"Event Type\"][df['Event Description'].str.contains(\"concert\", case=False)]=\"concert\"\n",
    "df[\"Event Type\"][df['Event Description'].str.contains(\"hockey\", case=False)]=\"hockey game\"\n",
    "df[\"Event Type\"][df['Event Description'].str.contains(\"basketball\", case=False)]=\"basketball game\"\n",
    "df[\"Event Type\"][df['Event Description'].str.contains(\"football\", case=False)]=\"football game\"\n",
    "df[\"Event Type\"][df['Event Description'].str.contains(\"soccer\", case=False)]=\"soccer game\"\n",
    "df[\"Event Type\"][df['Event Description'].str.contains(\"show\", case=False)]=\"show\"\n",
    "df[\"Event Type\"][df['Event Description'].str.contains(\"yankees\", case=False)]=\"baseball game\"\n",
    "df[\"Event Type\"][df['Event Description'].str.contains(\"yankees:\", case=False)]=\"baseball game\"\n",
    "df[\"Event Type\"][df['Event Description'].str.contains(\"mets:\", case=False)]=\"baseball game\"\n",
    "df[\"Event Type\"][df['Event Description'].str.contains(\"mets\", case=False)]=\"baseball game\"\n",
    "df[\"Event Type\"][df['Event Description'].str.contains(\"baseball\", case=False)]=\"baseball game\"\n",
    "df[\"Event Type\"][df['Event Description'].str.contains(\"wrestling\", case=False)]=\"wrestling\"\n"
   ]
  },
  {
   "cell_type": "code",
   "execution_count": 7,
   "metadata": {
    "collapsed": false
   },
   "outputs": [],
   "source": [
    "#corpus = df[\"Event Description\"].str.lower().str.split(\" \", n = 4, expand = True)\n",
    "#c1=corpus.iloc[:,1]==\"special\"  \n",
    "#c2=corpus.iloc[:,0]==\"special\"\n",
    "#corpus[c1 | c2]\n",
    "#corpus\n",
    "#corpus.iloc[:,1].value_counts()"
   ]
  },
  {
   "cell_type": "code",
   "execution_count": 12,
   "metadata": {
    "collapsed": false
   },
   "outputs": [
    {
     "data": {
      "text/html": [
       "<div>\n",
       "<table border=\"1\" class=\"dataframe\">\n",
       "  <thead>\n",
       "    <tr style=\"text-align: right;\">\n",
       "      <th></th>\n",
       "      <th>Event Type</th>\n",
       "      <th>event date</th>\n",
       "      <th>event start timestamp</th>\n",
       "      <th>Latitude</th>\n",
       "      <th>Longitude</th>\n",
       "    </tr>\n",
       "  </thead>\n",
       "  <tbody>\n",
       "    <tr>\n",
       "      <th>4008</th>\n",
       "      <td>concert</td>\n",
       "      <td>12/31/2015</td>\n",
       "      <td>2015-12-31 08:03:00</td>\n",
       "      <td>40.750320</td>\n",
       "      <td>-73.991172</td>\n",
       "    </tr>\n",
       "    <tr>\n",
       "      <th>4009</th>\n",
       "      <td>special event</td>\n",
       "      <td>12/31/2015</td>\n",
       "      <td>2015-12-31 02:27:00</td>\n",
       "      <td>40.759902</td>\n",
       "      <td>-73.980393</td>\n",
       "    </tr>\n",
       "    <tr>\n",
       "      <th>4010</th>\n",
       "      <td>christmas spectacular</td>\n",
       "      <td>12/31/2015</td>\n",
       "      <td>2015-12-31 01:30:00</td>\n",
       "      <td>40.759902</td>\n",
       "      <td>-73.980393</td>\n",
       "    </tr>\n",
       "    <tr>\n",
       "      <th>4011</th>\n",
       "      <td>special event</td>\n",
       "      <td>12/30/2015</td>\n",
       "      <td>2015-12-30 10:56:00</td>\n",
       "      <td>40.759902</td>\n",
       "      <td>-73.980393</td>\n",
       "    </tr>\n",
       "    <tr>\n",
       "      <th>4012</th>\n",
       "      <td>special event</td>\n",
       "      <td>12/30/2015</td>\n",
       "      <td>2015-12-30 10:14:00</td>\n",
       "      <td>40.759902</td>\n",
       "      <td>-73.980393</td>\n",
       "    </tr>\n",
       "  </tbody>\n",
       "</table>\n",
       "</div>"
      ],
      "text/plain": [
       "                 Event Type  event date event start timestamp   Latitude  \\\n",
       "4008                concert  12/31/2015   2015-12-31 08:03:00  40.750320   \n",
       "4009          special event  12/31/2015   2015-12-31 02:27:00  40.759902   \n",
       "4010  christmas spectacular  12/31/2015   2015-12-31 01:30:00  40.759902   \n",
       "4011          special event  12/30/2015   2015-12-30 10:56:00  40.759902   \n",
       "4012          special event  12/30/2015   2015-12-30 10:14:00  40.759902   \n",
       "\n",
       "      Longitude  \n",
       "4008 -73.991172  \n",
       "4009 -73.980393  \n",
       "4010 -73.980393  \n",
       "4011 -73.980393  \n",
       "4012 -73.980393  "
      ]
     },
     "execution_count": 12,
     "metadata": {},
     "output_type": "execute_result"
    }
   ],
   "source": [
    "#Conservo las columnas relevantes pora el analisis\n",
    "df=df[['Event Type','event date','event start timestamp','Latitude','Longitude']]\n",
    "#df.head()"
   ]
  },
  {
   "cell_type": "code",
   "execution_count": 14,
   "metadata": {
    "collapsed": true
   },
   "outputs": [],
   "source": [
    "df.to_csv(\"data\\\\ny_events_clean.csv\")"
   ]
  },
  {
   "cell_type": "code",
   "execution_count": null,
   "metadata": {
    "collapsed": true
   },
   "outputs": [],
   "source": []
  }
 ],
 "metadata": {
  "kernelspec": {
   "display_name": "Python 3",
   "language": "python",
   "name": "python3"
  },
  "language_info": {
   "codemirror_mode": {
    "name": "ipython",
    "version": 3
   },
   "file_extension": ".py",
   "mimetype": "text/x-python",
   "name": "python",
   "nbconvert_exporter": "python",
   "pygments_lexer": "ipython3",
   "version": "3.6.0"
  }
 },
 "nbformat": 4,
 "nbformat_minor": 2
}
